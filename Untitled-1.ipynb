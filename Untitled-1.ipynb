{
 "cells": [
  {
   "cell_type": "markdown",
   "metadata": {},
   "source": [
    "## First jupyter assignment"
   ]
  },
  {
   "cell_type": "markdown",
   "metadata": {},
   "source": [
    "### on this assignment i will make some of tasks."
   ]
  },
  {
   "cell_type": "markdown",
   "metadata": {},
   "source": [
    "### List of Data Science Languages:\n",
    "\n",
    "1. **Python**: A versatile and widely-used language with rich libraries for data analysis and machine learning.\n",
    "2. **R**: A statistical programming language known for its data analysis and visualization capabilities.\n",
    "3. **SQL (Structured Query Language)**: Essential for managing and querying relational databases.\n",
    "4. **Julia**: A high-performance language for numerical and scientific computing.\n",
    "5. **Scala**: Used with Apache Spark for big data processing.\n"
   ]
  },
  {
   "cell_type": "markdown",
   "metadata": {},
   "source": [
    "### List of Data Science Libraries:\n",
    "\n",
    "1. Numpy\n",
    "2. Pandas\n",
    "3. Tensorflow\n"
   ]
  },
  {
   "cell_type": "markdown",
   "metadata": {},
   "source": [
    "| Tool Name       | Description                                   |\n",
    "|-----------------|-----------------------------------------------|\n",
    "| Python          | A versatile programming language for DS tasks |\n",
    "| Jupyter Notebook| Interactive environment for data analysis    |\n",
    "| Pandas          | Data manipulation and analysis library       |\n",
    "| NumPy           | Numerical computing library for Python       |\n",
    "| Scikit-Learn    | Machine learning library for Python          |\n",
    "| Matplotlib      | Data visualization library for Python        |\n",
    "| TensorFlow      | Deep learning framework by Google            |\n",
    "| Keras           | High-level neural networks API                |\n",
    "| R               | Statistical computing and graphics language  |\n",
    "| SQL             | Database query language for data retrieval   |\n"
   ]
  },
  {
   "cell_type": "markdown",
   "metadata": {},
   "source": [
    "# Arithmetic Expressions Examples\n",
    "\n",
    "Arithmetic expressions involve mathematical operations like addition, subtraction, multiplication, and division.\n",
    "\n",
    "## Addition\n",
    "\n",
    "```python\n",
    "# Addition\n",
    "result = 5 + 3\n",
    "print(result)  # Output: 8\n"
   ]
  },
  {
   "cell_type": "code",
   "execution_count": null,
   "metadata": {},
   "outputs": [],
   "source": [
    "# Define two numbers\n",
    "num1 = 5\n",
    "num2 = 3\n",
    "\n",
    "# Perform multiplication\n",
    "result_multiply = num1 * num2\n",
    "\n",
    "# Perform addition\n",
    "result_add = num1 + num2\n",
    "\n",
    "# Print the results\n",
    "print(\"Multiplication result:\", result_multiply)\n",
    "print(\"Addition result:\", result_add)"
   ]
  },
  {
   "cell_type": "code",
   "execution_count": null,
   "metadata": {},
   "outputs": [],
   "source": [
    "# Define the number of minutes\n",
    "minutes = 120  # Change this to the number of minutes you want to convert\n",
    "\n",
    "# Perform the conversion\n",
    "hours = minutes / 60\n",
    "\n",
    "# Print the result\n",
    "print(f\"{minutes} minutes is equal to {hours} hours.\")"
   ]
  },
  {
   "cell_type": "markdown",
   "metadata": {},
   "source": [
    "# Objectives\n",
    "\n",
    "In this notebook, we aim to achieve the following objectives:\n",
    "\n",
    "- Make first jupyter excercise.\n",
    "- Learn how to use markdown to write header or notes.\n",
    "- Learn how to use markdown to write table.\n",
    "- Use code cell as well.\n",
    "\n",
    "Feel free to add or modify objectives based on the specific goals of your notebook or project.\n"
   ]
  },
  {
   "cell_type": "markdown",
   "metadata": {},
   "source": [
    "# Author\n",
    "\n",
    "**Author:** Mina Khalifa\n"
   ]
  }
 ],
 "metadata": {
  "language_info": {
   "name": "python"
  },
  "orig_nbformat": 4
 },
 "nbformat": 4,
 "nbformat_minor": 2
}
